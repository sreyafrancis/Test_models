{
 "cells": [
  {
   "cell_type": "code",
   "execution_count": null,
   "metadata": {
    "collapsed": false
   },
   "outputs": [],
   "source": [
    "import numpy as np\n",
    "import pandas as pd\n",
    "import os\n",
    "import glob\n",
    "from PIL import Image\n",
    "from scipy import ndimage\n",
    "from scipy.misc import toimage\n",
    "import pandas as pd\n",
    "\n",
    "from matplotlib import pyplot as plt\n",
    "import matplotlib.image as mpimg\n",
    "%matplotlib inline\n",
    "\n",
    "import random\n",
    "\n",
    "import cv2\n",
    "os.getcwd()"
   ]
  },
  {
   "cell_type": "code",
   "execution_count": null,
   "metadata": {
    "collapsed": true
   },
   "outputs": [],
   "source": [
    "#Load caffe model\n",
    "import caffe\n",
    "caffe.set_device(0)\n",
    "caffe.set_mode_gpu()\n",
    "\n",
    "caffe_root = \"/home/tebd/caffe/\"\n",
    "#root = \"test_model/\"\n",
    "model_def = '/home/tebd/caffe/examples/mnist/deploy.prototxt'\n",
    "model_weights = \"/home/tebd/caffe/examples/mnist/mnist_autoencoder_iter_10000.caffemodel\"  #change the caffe model\n",
    "\n",
    "net = caffe.Net(model_def,      # defines the structure of the model\n",
    "                        model_weights,  # contains the trained weights\n",
    "                        caffe.TEST)"
   ]
  },
  {
   "cell_type": "code",
   "execution_count": null,
   "metadata": {
    "collapsed": true
   },
   "outputs": [],
   "source": [
    "#Convert Images to 28X28\n",
    "path = \"/home/tebd/Assignments/Mnist_models/Test_Data/\"\n",
    "path, dirs, files = os.walk(path).next()\n",
    "for filename in glob.glob(path+\"/*.png\"):\n",
    "    img = cv2.imread(filename)\n",
    "    res = cv2.resize(img,(28, 28), interpolation = cv2.INTER_CUBIC)\n",
    "    res = cv2.cvtColor(res,cv2.COLOR_BGR2GRAY)\n",
    "    toimage(res).save(filename)"
   ]
  },
  {
   "cell_type": "code",
   "execution_count": null,
   "metadata": {
    "collapsed": true
   },
   "outputs": [],
   "source": [
    "#Generate Predictions\n",
    "name_Accumulator = list()\n",
    "pred_Accumulator = list()\n",
    "confidence = list()\n",
    "\n",
    "path = \"/home/tebd/Assignments/Mnist_models/Test_Data/\"\n",
    "for filename in glob.glob(path+\"/*.png\"):\n",
    "    name_Accumulator.append(filename[len(path):])\n",
    "    res = cv2.imread(filename)\n",
    "    res = cv2.resize(res,(28, 28), interpolation = cv2.INTER_CUBIC)\n",
    "    res = cv2.cvtColor(res,cv2.COLOR_BGR2GRAY)\n",
    "    \n",
    "    #res = cv2.resize(img,(224, 224), interpolation = cv2.INTER_CUBIC)\n",
    "    res = res.reshape((1,)+res.shape)\n",
    "    res = res*0.00390625\n",
    "    \n",
    "    net.blobs['data'].data[...] = res\n",
    "    net.forward()\n",
    "    output_prob = net.blobs['prob'].data[0]\n",
    "    confidence.append(max(output_prob))\n",
    "    top_inds = output_prob.argsort()[::-1][:1]\n",
    "    pred_Accumulator.append(top_inds[0])\n",
    "    #plt.imshow(img)\n",
    "    #print filename, top_inds"
   ]
  },
  {
   "cell_type": "code",
   "execution_count": null,
   "metadata": {
    "collapsed": true
   },
   "outputs": [],
   "source": [
    "predictions = pd.DataFrame({'FileName':name_Accumulator,'Prediction':pred_Accumulator,'Confidence':confidence})\n",
    "#predictions.columns = ['Prediction','FileName','Confidence']\n",
    "predictions = predictions[['FileName','Prediction','Confidence']]"
   ]
  },
  {
   "cell_type": "code",
   "execution_count": null,
   "metadata": {
    "collapsed": true
   },
   "outputs": [],
   "source": [
    "test = predictions[\"FileName\"]\n",
    "twos = [i for i in test if i.startswith(\"Two\")]"
   ]
  },
  {
   "cell_type": "code",
   "execution_count": null,
   "metadata": {
    "collapsed": true
   },
   "outputs": [],
   "source": [
    "predictions"
   ]
  },
  {
   "cell_type": "code",
   "execution_count": null,
   "metadata": {
    "collapsed": true
   },
   "outputs": [],
   "source": [
    "pred = predictions.loc[predictions[\"FileName\"].str.startswith('Nine', na=False)]\n",
    "print pred"
   ]
  },
  {
   "cell_type": "code",
   "execution_count": null,
   "metadata": {
    "collapsed": true
   },
   "outputs": [],
   "source": [
    "pred.groupby(\"Prediction\").size().plot(kind='bar')"
   ]
  },
  {
   "cell_type": "code",
   "execution_count": null,
   "metadata": {
    "collapsed": true
   },
   "outputs": [],
   "source": [
    "for i in twos:\n",
    "    print predictions[predictions[\"FileName\"] == i]"
   ]
  },
  {
   "cell_type": "code",
   "execution_count": null,
   "metadata": {
    "collapsed": true
   },
   "outputs": [],
   "source": [
    "predictions[predictions[\"Prediction\"] == 2]"
   ]
  },
  {
   "cell_type": "code",
   "execution_count": null,
   "metadata": {
    "collapsed": true
   },
   "outputs": [],
   "source": [
    "names = list()\n",
    "actual = list()\n",
    "tList = ['Zero','One','Two','Three','Four','Five','Six','Seven','Eight','Nine']\n",
    "lList = [0,1,2,3,4,5,6,7,8,9]\n",
    "path = \"/home/tebd/Assignments/Mnist_models/Test_Images/\"\n",
    "for filename in glob.glob(path+\"/*.png\"):\n",
    "    names.append(filename[len(path):])\n",
    "    name = filename[len(path):].split(\"_\")[0]\n",
    "    label = tList.index(name)\n",
    "    actual.append(label)\n",
    "        "
   ]
  },
  {
   "cell_type": "code",
   "execution_count": null,
   "metadata": {
    "collapsed": true
   },
   "outputs": [],
   "source": [
    "actuals = pd.DataFrame(names,actual).reset_index()\n",
    "actuals.columns = ['Actual','FileName']\n",
    "actuals = actuals[['FileName','Actual']]"
   ]
  },
  {
   "cell_type": "code",
   "execution_count": null,
   "metadata": {
    "collapsed": true
   },
   "outputs": [],
   "source": [
    "predictions = predictions.merge(actuals, on='FileName')"
   ]
  },
  {
   "cell_type": "code",
   "execution_count": null,
   "metadata": {
    "collapsed": true
   },
   "outputs": [],
   "source": [
    "predictions['isCorrect'] = predictions['Actual']==predictions['Prediction']\n",
    "predictions = predictions[['FileName','Actual','Prediction','isCorrect','Confidence']]\n",
    "predictions['isCorrect'].value_counts()"
   ]
  },
  {
   "cell_type": "code",
   "execution_count": null,
   "metadata": {
    "collapsed": true
   },
   "outputs": [],
   "source": [
    "predictions"
   ]
  },
  {
   "cell_type": "code",
   "execution_count": null,
   "metadata": {
    "collapsed": true
   },
   "outputs": [],
   "source": [
    "ab=predictions.groupby(['Actual','Prediction'])\n",
    "ab.groups"
   ]
  },
  {
   "cell_type": "code",
   "execution_count": null,
   "metadata": {
    "collapsed": true
   },
   "outputs": [],
   "source": [
    "ab=predictions.groupby(['Actual','Prediction'])\n",
    "ab.groups"
   ]
  },
  {
   "cell_type": "code",
   "execution_count": null,
   "metadata": {
    "collapsed": true
   },
   "outputs": [],
   "source": [
    "predictions.to_csv('final_test.csv',index=False)"
   ]
  },
  {
   "cell_type": "code",
   "execution_count": null,
   "metadata": {
    "collapsed": true
   },
   "outputs": [],
   "source": [
    "predictions['isCorrect'].value_counts('True')"
   ]
  }
 ],
 "metadata": {
  "kernelspec": {
   "display_name": "Python 2",
   "language": "python",
   "name": "python2"
  },
  "language_info": {
   "codemirror_mode": {
    "name": "ipython",
    "version": 2
   },
   "file_extension": ".py",
   "mimetype": "text/x-python",
   "name": "python",
   "nbconvert_exporter": "python",
   "pygments_lexer": "ipython2",
   "version": "2.7.12"
  }
 },
 "nbformat": 4,
 "nbformat_minor": 2
}
