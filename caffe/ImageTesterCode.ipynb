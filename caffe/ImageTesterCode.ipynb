{
 "cells": [
  {
   "cell_type": "code",
   "execution_count": null,
   "metadata": {
    "collapsed": false,
    "deletable": true,
    "editable": true
   },
   "outputs": [],
   "source": [
    "import numpy as np\n",
    "import pandas as pd\n",
    "import os\n",
    "import glob\n",
    "from PIL import Image\n",
    "from scipy import ndimage\n",
    "from scipy.misc import toimage\n",
    "import pandas as pd\n",
    "\n",
    "from matplotlib import pyplot as plt\n",
    "import matplotlib.image as mpimg\n",
    "%matplotlib inline\n",
    "\n",
    "import random\n",
    "\n",
    "import cv2\n",
    "os.getcwd()"
   ]
  },
  {
   "cell_type": "code",
   "execution_count": null,
   "metadata": {
    "collapsed": true,
    "deletable": true,
    "editable": true
   },
   "outputs": [],
   "source": [
    "#Load caffe model\n",
    "import caffe\n",
    "caffe.set_device(0)\n",
    "caffe.set_mode_gpu()\n",
    "\n",
    "caffe_root = \"/home/sreya/caffe/\"\n",
    "#root = \"test_model/\"\n",
    "model_def = '/home/sreya/caffe/examples/mnist/deploy.prototxt'\n",
    "model_weights = \"/home/sreya/caffe/examples/mnist/mnist_autoencoder_iter_10000.caffemodel\"  #change the caffe model\n",
    "\n",
    "net = caffe.Net(model_def,      # defines the structure of the model\n",
    "                        model_weights,  # contains the trained weights\n",
    "                        caffe.TEST)"
   ]
  },
  {
   "cell_type": "markdown",
   "metadata": {
    "deletable": true,
    "editable": true
   },
   "source": [
    "## Testing a single image"
   ]
  },
  {
   "cell_type": "code",
   "execution_count": null,
   "metadata": {
    "collapsed": true,
    "deletable": true,
    "editable": true
   },
   "outputs": [],
   "source": [
    "image0 = np.array([[0.0, 0.0, 0.0, 0.0, 0.0, 0.0, 0.0, 0.0, 0.0, 0.0, 0.0, 0.0, 0.0, 0.0, 0.0, 0.0, 0.0, 0.0, 0.0, 0.0, 0.0, 0.0, 0.0, 0.0, 0.0, 0.0, 0.0, 0.0, 0.0, 0.0, 0.0, 0.0, 0.0, 0.0, 0.0, 0.0, 0.0, 0.0, 0.0, 0.0, 0.0, 0.0, 0.0, 0.0, 0.0, 0.0, 0.0, 0.0, 0.0, 0.0, 0.0, 0.0, 0.0, 0.0, 0.0, 0.0, 0.0, 0.0, 0.0, 0.0, 0.0, 0.0, 0.0, 0.0, 0.0, 0.0, 0.0, 0.0, 0.0, 0.0, 0.0, 0.0, 0.0, 0.0, 0.0, 0.0, 0.0, 0.0, 0.0, 0.0, 0.0, 0.0, 0.0, 0.0, 0.0, 0.0, 0.0, 0.0, 0.0, 0.0, 0.0, 0.0, 0.0, 0.0, 0.0, 0.0, 0.0, 0.0, 0.0, 0.0, 0.0, 0.0, 0.0, 0.0, 0.0, 0.0, 0.0, 0.0, 0.0, 0.0, 0.0, 0.0, 0.0, 0.0, 0.0, 0.0, 0.0, 0.0, 0.0, 0.0, 0.0, 0.0, 0.0, 0.0, 0.04296875, 0.5859375, 0.98828125, 0.7890625, 0.12109375, 0.0, 0.0, 0.0, 0.0, 0.0, 0.0, 0.0, 0.0, 0.0, 0.0, 0.0, 0.0, 0.0, 0.0, 0.0, 0.0, 0.0, 0.0, 0.0, 0.0, 0.0, 0.0, 0.0, 0.14453125, 0.98046875, 0.98046875, 0.98828125, 0.41796875, 0.0, 0.0, 0.0, 0.0, 0.0, 0.0, 0.0, 0.0, 0.0, 0.0, 0.0, 0.0, 0.0, 0.0, 0.0, 0.0, 0.0, 0.0, 0.0, 0.0, 0.0, 0.0, 0.08203125, 0.76953125, 0.98046875, 0.98046875, 0.98828125, 0.41796875, 0.0, 0.0, 0.0, 0.0, 0.0, 0.0, 0.0, 0.0, 0.0, 0.0, 0.0, 0.0, 0.0, 0.0, 0.0, 0.0, 0.0, 0.0, 0.0, 0.0, 0.0, 0.4296875, 0.7421875, 0.98046875, 0.98046875, 0.98046875, 0.98828125, 0.66015625, 0.42578125, 0.2421875, 0.0, 0.0, 0.0, 0.0, 0.0, 0.0, 0.0, 0.0, 0.0, 0.0, 0.0, 0.0, 0.0, 0.0, 0.0, 0.0, 0.0, 0.0, 0.0, 0.98828125, 0.98046875, 0.98046875, 0.98046875, 0.98046875, 0.98828125, 0.98046875, 0.98046875, 0.859375, 0.19921875, 0.0, 0.0, 0.0, 0.0, 0.0, 0.0, 0.0, 0.0, 0.0, 0.0, 0.0, 0.0, 0.0, 0.0, 0.0, 0.0, 0.0, 0.7109375, 0.99609375, 0.98828125, 0.98828125, 0.98828125, 0.98828125, 0.9140625, 0.8671875, 0.98828125, 0.98828125, 0.98828125, 0.0, 0.0, 0.0, 0.0, 0.0, 0.0, 0.0, 0.0, 0.0, 0.0, 0.0, 0.0, 0.0, 0.0, 0.0, 0.0, 0.24609375, 0.86328125, 0.98828125, 0.98046875, 0.98046875, 0.98046875, 0.57421875, 0.30078125, 0.2421875, 0.5, 0.98046875, 0.98046875, 0.41015625, 0.0, 0.0, 0.0, 0.0, 0.0, 0.0, 0.0, 0.0, 0.0, 0.0, 0.0, 0.0, 0.0, 0.0, 0.125, 0.90234375, 0.98046875, 0.98828125, 0.98046875, 0.859375, 0.53515625, 0.0390625, 0.0, 0.0, 0.12109375, 0.8984375, 0.98046875, 0.94921875, 0.44140625, 0.01953125, 0.0, 0.0, 0.0, 0.0, 0.0, 0.0, 0.0, 0.0, 0.0, 0.0, 0.0, 0.0, 0.14453125, 0.98046875, 0.98046875, 0.98828125, 0.734375, 0.078125, 0.0, 0.0, 0.0, 0.0, 0.0, 0.42578125, 0.98046875, 0.98828125, 0.98046875, 0.13671875, 0.0, 0.0, 0.0, 0.0, 0.0, 0.0, 0.0, 0.0, 0.0, 0.0, 0.0, 0.0, 0.14453125, 0.98046875, 0.98046875, 0.78515625, 0.1171875, 0.0, 0.0, 0.0, 0.0, 0.0, 0.0, 0.12109375, 0.78125, 0.98828125, 0.98046875, 0.13671875, 0.0, 0.0, 0.0, 0.0, 0.0, 0.0, 0.0, 0.0, 0.0, 0.0, 0.0, 0.0, 0.14453125, 0.98828125, 0.98828125, 0.0, 0.0, 0.0, 0.0, 0.0, 0.0, 0.0, 0.0, 0.125, 0.7890625, 0.99609375, 0.98828125, 0.640625, 0.0, 0.0, 0.0, 0.0, 0.0, 0.0, 0.0, 0.0, 0.0, 0.0, 0.0, 0.0, 0.546875, 0.98046875, 0.98046875, 0.0, 0.0, 0.0, 0.0, 0.0, 0.0, 0.0, 0.0, 0.42578125, 0.98046875, 0.98828125, 0.98046875, 0.13671875, 0.0, 0.0, 0.0, 0.0, 0.0, 0.0, 0.0, 0.0, 0.0, 0.0, 0.0, 0.0, 0.84765625, 0.98046875, 0.98046875, 0.0, 0.0, 0.0, 0.0, 0.0, 0.0, 0.08203125, 0.24609375, 0.90234375, 0.98046875, 0.98828125, 0.8984375, 0.1171875, 0.0, 0.0, 0.0, 0.0, 0.0, 0.0, 0.0, 0.0, 0.0, 0.0, 0.0, 0.0, 0.84765625, 0.98046875, 0.98046875, 0.0, 0.0, 0.0, 0.0, 0.0, 0.0, 0.5625, 0.98046875, 0.98046875, 0.98046875, 0.86328125, 0.23828125, 0.0, 0.0, 0.0, 0.0, 0.0, 0.0, 0.0, 0.0, 0.0, 0.0, 0.0, 0.0, 0.0, 0.84765625, 0.98046875, 0.98046875, 0.0, 0.0, 0.0, 0.0, 0.0, 0.7109375, 0.86328125, 0.98046875, 0.98046875, 0.98046875, 0.703125, 0.0, 0.0, 0.0, 0.0, 0.0, 0.0, 0.0, 0.0, 0.0, 0.0, 0.0, 0.0, 0.0, 0.0, 0.8515625, 0.98828125, 0.98828125, 0.28515625, 0.28515625, 0.890625, 0.98828125, 0.98828125, 0.99609375, 0.98828125, 0.98828125, 0.98828125, 0.98828125, 0.0, 0.0, 0.0, 0.0, 0.0, 0.0, 0.0, 0.0, 0.0, 0.0, 0.0, 0.0, 0.0, 0.0, 0.0, 0.44140625, 0.98046875, 0.98046875, 0.98828125, 0.98046875, 0.98046875, 0.98046875, 0.98046875, 0.98828125, 0.98046875, 0.98046875, 0.98046875, 0.57421875, 0.0, 0.0, 0.0, 0.0, 0.0, 0.0, 0.0, 0.0, 0.0, 0.0, 0.0, 0.0, 0.0, 0.0, 0.0, 0.12109375, 0.8984375, 0.98046875, 0.98828125, 0.98046875, 0.98046875, 0.98046875, 0.98046875, 0.98828125, 0.8984375, 0.73828125, 0.13671875, 0.0390625, 0.0, 0.0, 0.0, 0.0, 0.0, 0.0, 0.0, 0.0, 0.0, 0.0, 0.0, 0.0, 0.0, 0.0, 0.0, 0.0, 0.2421875, 0.5546875, 0.98828125, 0.98046875, 0.98046875, 0.98046875, 0.98046875, 0.98828125, 0.41796875, 0.0, 0.0, 0.0, 0.0, 0.0, 0.0, 0.0, 0.0, 0.0, 0.0, 0.0, 0.0, 0.0, 0.0, 0.0, 0.0, 0.0, 0.0, 0.0, 0.0, 0.0, 0.28125, 0.6796875, 0.98046875, 0.67578125, 0.27734375, 0.28125, 0.1171875, 0.0, 0.0, 0.0, 0.0, 0.0, 0.0, 0.0, 0.0, 0.0, 0.0, 0.0, 0.0, 0.0, 0.0, 0.0, 0.0, 0.0, 0.0, 0.0, 0.0, 0.0, 0.0, 0.0, 0.0, 0.0, 0.0, 0.0, 0.0, 0.0, 0.0, 0.0, 0.0, 0.0, 0.0, 0.0, 0.0, 0.0, 0.0, 0.0, 0.0, 0.0, 0.0, 0.0, 0.0, 0.0, 0.0, 0.0, 0.0, 0.0, 0.0, 0.0, 0.0, 0.0, 0.0, 0.0, 0.0, 0.0, 0.0, 0.0, 0.0, 0.0, 0.0, 0.0, 0.0, 0.0, 0.0, 0.0, 0.0, 0.0, 0.0, 0.0, 0.0, 0.0, 0.0, 0.0, 0.0, 0.0, 0.0, 0.0, 0.0, 0.0, 0.0, 0.0, 0.0, 0.0, 0.0, 0.0, 0.0, 0.0, 0.0, 0.0, 0.0, 0.0, 0.0, 0.0, 0.0, 0.0, 0.0, 0.0, 0.0, 0.0, 0.0, 0.0, 0.0, 0.0, 0.0, 0.0, 0.0, 0.0, 0.0, 0.0, 0.0, 0.0, 0.0, 0.0, 0.0, 0.0, 0.0, 0.0, 0.0, 0.0, 0.0, 0.0]])\n",
    "res = image0.reshape((1,)+image0.shape)\n",
    "res = res*0.00390625\n",
    "    \n",
    "net.blobs['flatdata'].data[...] = res\n",
    "net.forward()\n",
    "output_prob = net.blobs['decode1neuron'].data[0]\n",
    "print output_prob\n",
    "output_path = \"/home/sreya/SreyaCuda/Outputs/caffe/\"\n",
    "output_prob.flatten().tofile( output_path + \"autoenc_image_0.txt\", sep=\"\\n\", format=\"%s\" )\n",
    "#confidence.append(max(output_prob))\n",
    "#top_inds = output_prob.argsort()[::-1][:1]\n"
   ]
  },
  {
   "cell_type": "code",
   "execution_count": null,
   "metadata": {
    "collapsed": false,
    "deletable": true,
    "editable": true
   },
   "outputs": [],
   "source": []
  },
  {
   "cell_type": "code",
   "execution_count": null,
   "metadata": {
    "collapsed": false,
    "deletable": true,
    "editable": true
   },
   "outputs": [],
   "source": []
  },
  {
   "cell_type": "code",
   "execution_count": null,
   "metadata": {
    "collapsed": false,
    "deletable": true,
    "editable": true
   },
   "outputs": [],
   "source": []
  },
  {
   "cell_type": "markdown",
   "metadata": {
    "deletable": true,
    "editable": true
   },
   "source": [
    "## For testing all images in a folder"
   ]
  },
  {
   "cell_type": "code",
   "execution_count": null,
   "metadata": {
    "collapsed": true,
    "deletable": true,
    "editable": true
   },
   "outputs": [],
   "source": [
    "#Convert Images to 28X28\n",
    "path = \"/home/sreya/Assignments/Mnist_models/Test_Data/\"\n",
    "path, dirs, files = os.walk(path).next()\n",
    "for filename in glob.glob(path+\"/*.png\"):\n",
    "    img = cv2.imread(filename)\n",
    "    res = cv2.resize(img,(28, 28), interpolation = cv2.INTER_CUBIC)\n",
    "    res = cv2.cvtColor(res,cv2.COLOR_BGR2GRAY)\n",
    "    toimage(res).save(filename)"
   ]
  },
  {
   "cell_type": "code",
   "execution_count": null,
   "metadata": {
    "collapsed": true,
    "deletable": true,
    "editable": true
   },
   "outputs": [],
   "source": [
    "#Generate Predictions\n",
    "name_Accumulator = list()\n",
    "pred_Accumulator = list()\n",
    "confidence = list()\n",
    "\n",
    "path = \"/home/sreya/Assignments/Mnist_models/Test_Data/\"\n",
    "for filename in glob.glob(path+\"/*.png\"):\n",
    "    name_Accumulator.append(filename[len(path):])\n",
    "    res = cv2.imread(filename)\n",
    "    res = cv2.resize(res,(28, 28), interpolation = cv2.INTER_CUBIC)\n",
    "    res = cv2.cvtColor(res,cv2.COLOR_BGR2GRAY)\n",
    "    \n",
    "    #res = cv2.resize(img,(224, 224), interpolation = cv2.INTER_CUBIC)\n",
    "    res = res.reshape((1,)+res.shape)\n",
    "    res = res*0.00390625\n",
    "    \n",
    "    net.blobs['data'].data[...] = res\n",
    "    net.forward()\n",
    "    output_prob = net.blobs['prob'].data[0]\n",
    "    confidence.append(max(output_prob))\n",
    "    top_inds = output_prob.argsort()[::-1][:1]\n",
    "    pred_Accumulator.append(top_inds[0])\n",
    "    #plt.imshow(img)\n",
    "    #print filename, top_inds"
   ]
  },
  {
   "cell_type": "code",
   "execution_count": null,
   "metadata": {
    "collapsed": true,
    "deletable": true,
    "editable": true
   },
   "outputs": [],
   "source": [
    "predictions = pd.DataFrame({'FileName':name_Accumulator,'Prediction':pred_Accumulator,'Confidence':confidence})\n",
    "#predictions.columns = ['Prediction','FileName','Confidence']\n",
    "predictions = predictions[['FileName','Prediction','Confidence']]"
   ]
  },
  {
   "cell_type": "code",
   "execution_count": null,
   "metadata": {
    "collapsed": true,
    "deletable": true,
    "editable": true
   },
   "outputs": [],
   "source": [
    "test = predictions[\"FileName\"]\n",
    "twos = [i for i in test if i.startswith(\"Two\")]"
   ]
  },
  {
   "cell_type": "code",
   "execution_count": null,
   "metadata": {
    "collapsed": true,
    "deletable": true,
    "editable": true
   },
   "outputs": [],
   "source": [
    "predictions"
   ]
  },
  {
   "cell_type": "code",
   "execution_count": null,
   "metadata": {
    "collapsed": true,
    "deletable": true,
    "editable": true
   },
   "outputs": [],
   "source": [
    "pred = predictions.loc[predictions[\"FileName\"].str.startswith('Nine', na=False)]\n",
    "print pred"
   ]
  },
  {
   "cell_type": "code",
   "execution_count": null,
   "metadata": {
    "collapsed": true,
    "deletable": true,
    "editable": true
   },
   "outputs": [],
   "source": [
    "pred.groupby(\"Prediction\").size().plot(kind='bar')"
   ]
  },
  {
   "cell_type": "code",
   "execution_count": null,
   "metadata": {
    "collapsed": true,
    "deletable": true,
    "editable": true
   },
   "outputs": [],
   "source": [
    "for i in twos:\n",
    "    print predictions[predictions[\"FileName\"] == i]"
   ]
  },
  {
   "cell_type": "code",
   "execution_count": null,
   "metadata": {
    "collapsed": true,
    "deletable": true,
    "editable": true
   },
   "outputs": [],
   "source": [
    "predictions[predictions[\"Prediction\"] == 2]"
   ]
  },
  {
   "cell_type": "code",
   "execution_count": null,
   "metadata": {
    "collapsed": true,
    "deletable": true,
    "editable": true
   },
   "outputs": [],
   "source": [
    "names = list()\n",
    "actual = list()\n",
    "tList = ['Zero','One','Two','Three','Four','Five','Six','Seven','Eight','Nine']\n",
    "lList = [0,1,2,3,4,5,6,7,8,9]\n",
    "path = \"/home/sreya/Assignments/Mnist_models/Test_Images/\"\n",
    "for filename in glob.glob(path+\"/*.png\"):\n",
    "    names.append(filename[len(path):])\n",
    "    name = filename[len(path):].split(\"_\")[0]\n",
    "    label = tList.index(name)\n",
    "    actual.append(label)\n",
    "        "
   ]
  },
  {
   "cell_type": "code",
   "execution_count": null,
   "metadata": {
    "collapsed": true,
    "deletable": true,
    "editable": true
   },
   "outputs": [],
   "source": [
    "actuals = pd.DataFrame(names,actual).reset_index()\n",
    "actuals.columns = ['Actual','FileName']\n",
    "actuals = actuals[['FileName','Actual']]"
   ]
  },
  {
   "cell_type": "code",
   "execution_count": null,
   "metadata": {
    "collapsed": false,
    "deletable": true,
    "editable": true
   },
   "outputs": [],
   "source": [
    "predictions = predictions.merge(actuals, on='FileName')"
   ]
  },
  {
   "cell_type": "code",
   "execution_count": null,
   "metadata": {
    "collapsed": true,
    "deletable": true,
    "editable": true
   },
   "outputs": [],
   "source": [
    "predictions['isCorrect'] = predictions['Actual']==predictions['Prediction']\n",
    "predictions = predictions[['FileName','Actual','Prediction','isCorrect','Confidence']]\n",
    "predictions['isCorrect'].value_counts()"
   ]
  },
  {
   "cell_type": "code",
   "execution_count": null,
   "metadata": {
    "collapsed": true,
    "deletable": true,
    "editable": true
   },
   "outputs": [],
   "source": [
    "predictions"
   ]
  },
  {
   "cell_type": "code",
   "execution_count": null,
   "metadata": {
    "collapsed": true,
    "deletable": true,
    "editable": true
   },
   "outputs": [],
   "source": [
    "ab=predictions.groupby(['Actual','Prediction'])\n",
    "ab.groups"
   ]
  },
  {
   "cell_type": "code",
   "execution_count": null,
   "metadata": {
    "collapsed": true,
    "deletable": true,
    "editable": true
   },
   "outputs": [],
   "source": [
    "ab=predictions.groupby(['Actual','Prediction'])\n",
    "ab.groups"
   ]
  },
  {
   "cell_type": "code",
   "execution_count": null,
   "metadata": {
    "collapsed": false,
    "deletable": true,
    "editable": true
   },
   "outputs": [],
   "source": [
    "predictions.to_csv('final_test.csv',index=False)"
   ]
  },
  {
   "cell_type": "code",
   "execution_count": null,
   "metadata": {
    "collapsed": true,
    "deletable": true,
    "editable": true
   },
   "outputs": [],
   "source": [
    "predictions['isCorrect'].value_counts('True')"
   ]
  },
  {
   "cell_type": "code",
   "execution_count": null,
   "metadata": {
    "collapsed": false,
    "deletable": true,
    "editable": true
   },
   "outputs": [],
   "source": [
    "## lenet_digital_iter_8000.caffemodel - 00_test.csv - 0.483333\n",
    "## lenet_digital_iter_2000.caffemodel - 01_test.csv - 0.5\n",
    "## lenet_digital_iter_4000.caffemodel - 02_test.csv - 0.516667\n",
    "## lenet_digital_iter_6000.caffemodel - 03_test.csv - 0.483333\n",
    "\n",
    "## lenet_digital_iter_21000.caffemodel - 04_test.csv - 0.45\n",
    "\n",
    "#00- 0.45\n",
    "#01- 0.4\n",
    "#02 -0.383333\n",
    "#03- 0.4\n",
    "#04-   0.383333\n",
    "\n",
    "#00-  0.466667\n",
    "#01-  0.45\n",
    "#02-  0.383333\n",
    "#03-  0.45\n",
    "#04- 0.433333\n",
    "\n",
    "#00 -   0.315789\n",
    "#01 -   0.315789\n",
    "#02-    0.294737\n"
   ]
  },
  {
   "cell_type": "code",
   "execution_count": null,
   "metadata": {
    "collapsed": false,
    "deletable": true,
    "editable": true
   },
   "outputs": [],
   "source": []
  }
 ],
 "metadata": {
  "kernelspec": {
   "display_name": "Python 2",
   "language": "python",
   "name": "python2"
  },
  "language_info": {
   "codemirror_mode": {
    "name": "ipython",
    "version": 2
   },
   "file_extension": ".py",
   "mimetype": "text/x-python",
   "name": "python",
   "nbconvert_exporter": "python",
   "pygments_lexer": "ipython2",
   "version": "2.7.12"
  }
 },
 "nbformat": 4,
 "nbformat_minor": 0
}
