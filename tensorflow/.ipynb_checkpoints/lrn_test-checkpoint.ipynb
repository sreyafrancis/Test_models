{
 "cells": [
  {
   "cell_type": "code",
   "execution_count": 56,
   "metadata": {
    "collapsed": true,
    "deletable": true,
    "editable": true
   },
   "outputs": [],
   "source": [
    "import tensorflow as tf\n",
    "import numpy as np\n",
    "\n",
    "i=[1,2,3,4,5,6,7,8,9,0,1,2,3,4,5,6,7,8,9,0,1,2,3,4,5,6,7,8,9,0,1,2,3,4,5,6,7,8,9,0,1,2,3,4,5,6,7,8,9,0,1,2,3,4,5,6,7,8,9,0,\n",
    "1,2,3,4,5,6,7,8,9,0,1,2,3,4,5,6,7,8,9,0,1,2,3,4,5,6,7,8,9,0]\n",
    "x=np.array(i,dtype=np.float32)\n",
    "x=x.reshape(1,3,3,10)\n",
    "xx=tf.Variable(x,trainable=False,name=\"x\")\n",
    "o=tf.nn.lrn(xx,depth_radius=5,\n",
    "    bias=1,\n",
    "    alpha=1,\n",
    "    beta=0.5,)\n"
   ]
  },
  {
   "cell_type": "code",
   "execution_count": 57,
   "metadata": {
    "collapsed": false
   },
   "outputs": [
    {
     "data": {
      "text/plain": [
       "<tf.Tensor 'LRN_8:0' shape=(1, 3, 3, 10) dtype=float32>"
      ]
     },
     "execution_count": 57,
     "metadata": {},
     "output_type": "execute_result"
    }
   ],
   "source": [
    "o"
   ]
  },
  {
   "cell_type": "code",
   "execution_count": 29,
   "metadata": {
    "collapsed": false,
    "deletable": true,
    "editable": true
   },
   "outputs": [],
   "source": [
    "o\n",
    "#o=tf.transpose(o, perm=[0,2,3,1])"
   ]
  },
  {
   "cell_type": "code",
   "execution_count": 30,
   "metadata": {
    "collapsed": false
   },
   "outputs": [
    {
     "data": {
      "text/plain": [
       "<tf.Tensor 'transpose_5:0' shape=(1, 3, 10, 3) dtype=float32>"
      ]
     },
     "execution_count": 30,
     "metadata": {},
     "output_type": "execute_result"
    }
   ],
   "source": [
    "o"
   ]
  },
  {
   "cell_type": "code",
   "execution_count": 58,
   "metadata": {
    "collapsed": false,
    "deletable": true,
    "editable": true
   },
   "outputs": [],
   "source": [
    "init=tf.global_variables_initializer()\n",
    "\n",
    "\n",
    "with tf.Session() as sess:\n",
    "    sess.run(init)\n",
    "    output_lrn=sess.run(o)"
   ]
  },
  {
   "cell_type": "code",
   "execution_count": 59,
   "metadata": {
    "collapsed": false
   },
   "outputs": [
    {
     "data": {
      "text/plain": [
       "array([[[[ 0.25819889,  0.35921061,  0.40089184,  0.41931391,  0.4287464 ,\n",
       "           0.43414477,  0.43749997,  0.52636129,  0.6445033 ,  0.        ],\n",
       "         [ 0.25819889,  0.35921061,  0.40089184,  0.41931391,  0.4287464 ,\n",
       "           0.43414477,  0.43749997,  0.52636129,  0.6445033 ,  0.        ],\n",
       "         [ 0.25819889,  0.35921061,  0.40089184,  0.41931391,  0.4287464 ,\n",
       "           0.43414477,  0.43749997,  0.52636129,  0.6445033 ,  0.        ]],\n",
       "\n",
       "        [[ 0.25819889,  0.35921061,  0.40089184,  0.41931391,  0.4287464 ,\n",
       "           0.43414477,  0.43749997,  0.52636129,  0.6445033 ,  0.        ],\n",
       "         [ 0.25819889,  0.35921061,  0.40089184,  0.41931391,  0.4287464 ,\n",
       "           0.43414477,  0.43749997,  0.52636129,  0.6445033 ,  0.        ],\n",
       "         [ 0.25819889,  0.35921061,  0.40089184,  0.41931391,  0.4287464 ,\n",
       "           0.43414477,  0.43749997,  0.52636129,  0.6445033 ,  0.        ]],\n",
       "\n",
       "        [[ 0.25819889,  0.35921061,  0.40089184,  0.41931391,  0.4287464 ,\n",
       "           0.43414477,  0.43749997,  0.52636129,  0.6445033 ,  0.        ],\n",
       "         [ 0.25819889,  0.35921061,  0.40089184,  0.41931391,  0.4287464 ,\n",
       "           0.43414477,  0.43749997,  0.52636129,  0.6445033 ,  0.        ],\n",
       "         [ 0.25819889,  0.35921061,  0.40089184,  0.41931391,  0.4287464 ,\n",
       "           0.43414477,  0.43749997,  0.52636129,  0.64450336,  0.        ]]]], dtype=float32)"
      ]
     },
     "execution_count": 59,
     "metadata": {},
     "output_type": "execute_result"
    }
   ],
   "source": [
    "output_lrn"
   ]
  },
  {
   "cell_type": "code",
   "execution_count": 60,
   "metadata": {
    "collapsed": true
   },
   "outputs": [],
   "source": [
    "output_lrn.flatten().tofile(\"lrnTestOutput.txt\",sep='\\n',format=\"%s\")"
   ]
  },
  {
   "cell_type": "code",
   "execution_count": 10,
   "metadata": {
    "collapsed": false
   },
   "outputs": [],
   "source": [
    "output_lrn=tf.transpose((0,2,3,1))"
   ]
  },
  {
   "cell_type": "code",
   "execution_count": 11,
   "metadata": {
    "collapsed": false,
    "deletable": true,
    "editable": true
   },
   "outputs": [
    {
     "data": {
      "text/plain": [
       "<tf.Tensor 'transpose_1:0' shape=(4,) dtype=int32>"
      ]
     },
     "execution_count": 11,
     "metadata": {},
     "output_type": "execute_result"
    }
   ],
   "source": [
    "output_lrn#.transpose((0,2,3,1))"
   ]
  },
  {
   "cell_type": "code",
   "execution_count": null,
   "metadata": {
    "collapsed": true
   },
   "outputs": [],
   "source": []
  },
  {
   "cell_type": "code",
   "execution_count": null,
   "metadata": {
    "collapsed": true,
    "deletable": true,
    "editable": true
   },
   "outputs": [],
   "source": [
    "n_input=90\n",
    "x = tf.placeholder(tf.float32, [None, n_input])\n",
    "\n",
    "x=tf.nn.lrn(x)"
   ]
  }
 ],
 "metadata": {
  "kernelspec": {
   "display_name": "Python 2",
   "language": "python",
   "name": "python2"
  },
  "language_info": {
   "codemirror_mode": {
    "name": "ipython",
    "version": 2
   },
   "file_extension": ".py",
   "mimetype": "text/x-python",
   "name": "python",
   "nbconvert_exporter": "python",
   "pygments_lexer": "ipython2",
   "version": "2.7.12"
  }
 },
 "nbformat": 4,
 "nbformat_minor": 2
}
