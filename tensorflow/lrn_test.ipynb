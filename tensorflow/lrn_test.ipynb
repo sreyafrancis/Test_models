{
 "cells": [
  {
   "cell_type": "code",
   "execution_count": 111,
   "metadata": {
    "collapsed": true,
    "deletable": true,
    "editable": true
   },
   "outputs": [],
   "source": [
    "import tensorflow as tf\n",
    "import numpy as np\n",
    "\n",
    "i=[1,2,3,4,5,6,7,8,9,0,1,2,3,4,5,6,7,8,9,0,1,2,3,4,5,6,7,8,9,0,1,2,3,4,5,6,7,8,9,0,1,2,3,4,5,6,7,8,9,0,1,2,3,4,5,6,7,8,9,0,\n",
    "1,2,3,4,5,6,7,8,9,0,1,2,3,4,5,6,7,8,9,0,1,2,3,4,5,6,7,8,9,0]\n",
    "x=np.array(i,dtype=np.float32)\n",
    "x=x.reshape(1,3,3,10)\n",
    "xx=tf.Variable(x,trainable=False,name=\"x\")\n",
    "o=tf.nn.lrn(xx,depth_radius=5,\n",
    "            \n",
    "    bias=1,\n",
    "    alpha=1,\n",
    "    beta=0.5,)\n"
   ]
  },
  {
   "cell_type": "code",
   "execution_count": 112,
   "metadata": {
    "collapsed": false
   },
   "outputs": [
    {
     "data": {
      "text/plain": [
       "<tf.Tensor 'LRN_17:0' shape=(1, 3, 3, 10) dtype=float32>"
      ]
     },
     "execution_count": 112,
     "metadata": {},
     "output_type": "execute_result"
    }
   ],
   "source": [
    "o"
   ]
  },
  {
   "cell_type": "code",
   "execution_count": 105,
   "metadata": {
    "collapsed": false,
    "deletable": true,
    "editable": true
   },
   "outputs": [],
   "source": [
    "o\n",
    "o=tf.transpose(o, perm=[0,2,3,1])"
   ]
  },
  {
   "cell_type": "code",
   "execution_count": 104,
   "metadata": {
    "collapsed": false
   },
   "outputs": [
    {
     "data": {
      "text/plain": [
       "<tf.Tensor 'transpose_10:0' shape=(3, 10, 3, 1) dtype=float32>"
      ]
     },
     "execution_count": 104,
     "metadata": {},
     "output_type": "execute_result"
    }
   ],
   "source": [
    "o"
   ]
  },
  {
   "cell_type": "code",
   "execution_count": 113,
   "metadata": {
    "collapsed": false,
    "deletable": true,
    "editable": true
   },
   "outputs": [],
   "source": [
    "init=tf.global_variables_initializer()\n",
    "\n",
    "\n",
    "with tf.Session() as sess:\n",
    "    sess.run(init)\n",
    "    output_lrn=sess.run(o)"
   ]
  },
  {
   "cell_type": "code",
   "execution_count": 114,
   "metadata": {
    "collapsed": false
   },
   "outputs": [
    {
     "data": {
      "text/plain": [
       "array([[[[ 0.10425719,  0.16843036,  0.2095291 ,  0.23652494,  0.29565617,\n",
       "           0.35478741,  0.41464418,  0.47723997,  0.54570514,  0.        ],\n",
       "         [ 0.10425719,  0.16843036,  0.2095291 ,  0.23652494,  0.29565617,\n",
       "           0.35478741,  0.41464418,  0.47723997,  0.54570514,  0.        ],\n",
       "         [ 0.10425719,  0.16843036,  0.2095291 ,  0.23652494,  0.29565617,\n",
       "           0.35478741,  0.41464418,  0.47723997,  0.54570514,  0.        ]],\n",
       "\n",
       "        [[ 0.10425719,  0.16843036,  0.2095291 ,  0.23652494,  0.29565617,\n",
       "           0.35478741,  0.41464418,  0.47723997,  0.54570514,  0.        ],\n",
       "         [ 0.10425719,  0.16843036,  0.2095291 ,  0.23652494,  0.29565617,\n",
       "           0.35478741,  0.41464418,  0.47723997,  0.54570514,  0.        ],\n",
       "         [ 0.10425719,  0.16843036,  0.2095291 ,  0.23652494,  0.29565617,\n",
       "           0.35478741,  0.41464418,  0.47723997,  0.54570514,  0.        ]],\n",
       "\n",
       "        [[ 0.10425719,  0.16843036,  0.2095291 ,  0.23652494,  0.29565617,\n",
       "           0.35478741,  0.41464418,  0.47723997,  0.54570514,  0.        ],\n",
       "         [ 0.10425719,  0.16843036,  0.2095291 ,  0.23652494,  0.29565617,\n",
       "           0.35478741,  0.41464418,  0.47723997,  0.54570514,  0.        ],\n",
       "         [ 0.10425719,  0.16843036,  0.2095291 ,  0.23652494,  0.29565617,\n",
       "           0.35478741,  0.41464418,  0.47723997,  0.5457052 ,  0.        ]]]], dtype=float32)"
      ]
     },
     "execution_count": 114,
     "metadata": {},
     "output_type": "execute_result"
    }
   ],
   "source": [
    "output_lrn"
   ]
  },
  {
   "cell_type": "code",
   "execution_count": 116,
   "metadata": {
    "collapsed": true
   },
   "outputs": [],
   "source": [
    "output_lrn.flatten().tofile(\"lrnTestOutput.txt\",sep='\\n',format=\"%s\")"
   ]
  },
  {
   "cell_type": "code",
   "execution_count": 100,
   "metadata": {
    "collapsed": false
   },
   "outputs": [],
   "source": [
    "output_lrn=tf.transpose((0,2,3,1))"
   ]
  },
  {
   "cell_type": "code",
   "execution_count": 83,
   "metadata": {
    "collapsed": false,
    "deletable": true,
    "editable": true
   },
   "outputs": [
    {
     "data": {
      "text/plain": [
       "<tf.Tensor 'transpose_6:0' shape=(4,) dtype=int32>"
      ]
     },
     "execution_count": 83,
     "metadata": {},
     "output_type": "execute_result"
    }
   ],
   "source": [
    "output_lrn#.transpose((0,2,3,1))"
   ]
  },
  {
   "cell_type": "code",
   "execution_count": null,
   "metadata": {
    "collapsed": true
   },
   "outputs": [],
   "source": []
  },
  {
   "cell_type": "code",
   "execution_count": null,
   "metadata": {
    "collapsed": true,
    "deletable": true,
    "editable": true
   },
   "outputs": [],
   "source": [
    "n_input=90\n",
    "x = tf.placeholder(tf.float32, [None, n_input])\n",
    "\n",
    "x=tf.nn.lrn(x)"
   ]
  }
 ],
 "metadata": {
  "kernelspec": {
   "display_name": "Python 2",
   "language": "python",
   "name": "python2"
  },
  "language_info": {
   "codemirror_mode": {
    "name": "ipython",
    "version": 2
   },
   "file_extension": ".py",
   "mimetype": "text/x-python",
   "name": "python",
   "nbconvert_exporter": "python",
   "pygments_lexer": "ipython2",
   "version": "2.7.12"
  }
 },
 "nbformat": 4,
 "nbformat_minor": 2
}
